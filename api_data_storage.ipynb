{
 "cells": [
  {
   "cell_type": "markdown",
   "id": "92484deb",
   "metadata": {},
   "source": [
    "# API Data Retrieval"
   ]
  },
  {
   "cell_type": "code",
   "execution_count": null,
   "id": "8d92dfdc",
   "metadata": {},
   "outputs": [],
   "source": [
    "!pip install requests"
   ]
  },
  {
   "cell_type": "code",
   "execution_count": null,
   "id": "05abbd10",
   "metadata": {},
   "outputs": [],
   "source": [
    "import requests\n",
    "\n",
    "url = \"https://imdb188.p.rapidapi.com/api/v1/getWhatsStreaming\"\n",
    "\n",
    "querystring = {\"country\":\"US\"}\n",
    "\n",
    "headers = {\n",
    "\t\"X-RapidAPI-Key\": \"c995b3033fmsh8c24430680d8e8dp1bf381jsn064995b64f2d\",\n",
    "\t\"X-RapidAPI-Host\": \"imdb188.p.rapidapi.com\"\n",
    "}\n",
    "\n",
    "response = requests.get(url, headers=headers, params=querystring)\n",
    "\n",
    "print(response.json())"
   ]
  },
  {
   "cell_type": "code",
   "execution_count": null,
   "id": "0a42203f",
   "metadata": {},
   "outputs": [],
   "source": [
    "data = response.json()"
   ]
  },
  {
   "cell_type": "code",
   "execution_count": null,
   "id": "63d9e4f9",
   "metadata": {},
   "outputs": [],
   "source": [
    "data['data'][0]['providerName']"
   ]
  },
  {
   "cell_type": "code",
   "execution_count": null,
   "id": "8015b7f6",
   "metadata": {},
   "outputs": [],
   "source": [
    "len(data['data'][0]['edges'])"
   ]
  },
  {
   "cell_type": "code",
   "execution_count": null,
   "id": "8aba1acf",
   "metadata": {},
   "outputs": [],
   "source": [
    "print(data['data'][0]['edges'][0]['title']['ratingsSummary']['topRanking'])"
   ]
  },
  {
   "cell_type": "code",
   "execution_count": null,
   "id": "91882da9",
   "metadata": {},
   "outputs": [],
   "source": [
    "len(data['data'])"
   ]
  },
  {
   "cell_type": "markdown",
   "id": "08973c91",
   "metadata": {},
   "source": [
    "# Data Storage"
   ]
  },
  {
   "cell_type": "code",
   "execution_count": null,
   "id": "75b71440",
   "metadata": {},
   "outputs": [],
   "source": [
    "!pip install mysql-connector-python"
   ]
  },
  {
   "cell_type": "code",
   "execution_count": null,
   "id": "803eb8d1",
   "metadata": {},
   "outputs": [],
   "source": [
    "import mysql.connector"
   ]
  },
  {
   "cell_type": "code",
   "execution_count": null,
   "id": "75ca7ea1",
   "metadata": {},
   "outputs": [],
   "source": [
    "mydb = mysql.connector.connect(host='localhost',user='root', password='pass123',database='streaming_data')"
   ]
  },
  {
   "cell_type": "code",
   "execution_count": null,
   "id": "d8ca1908",
   "metadata": {},
   "outputs": [],
   "source": [
    "cursor = mydb.cursor()"
   ]
  },
  {
   "cell_type": "code",
   "execution_count": null,
   "id": "d4c63fce",
   "metadata": {},
   "outputs": [],
   "source": [
    "cursor.execute('desc movies')\n",
    "rows = cursor.fetchall()\n",
    "\n",
    "for row in rows:\n",
    "    print(row)"
   ]
  },
  {
   "cell_type": "code",
   "execution_count": null,
   "id": "38ada3ce",
   "metadata": {},
   "outputs": [],
   "source": [
    "for i in range(0,len(data['data'])):\n",
    "    for item in data['data'][i]['edges']:\n",
    "            provider_name = data['data'][i]['providerName']\n",
    "            title_id = item['title']['id']\n",
    "            is_adult = item['title']['isAdult']\n",
    "            can_rate_title = item['title']['canRateTitle']['isRatable']\n",
    "            original_title_text = item['title']['originalTitleText']['text']\n",
    "            image_url = item['title']['primaryImage']['imageUrl']\n",
    "            image_width = item['title']['primaryImage']['imageWidth']\n",
    "            image_height = item['title']['primaryImage']['imageHeight']\n",
    "            aggregate_rating = item['title']['ratingsSummary']['aggregateRating']\n",
    "            top_ranking = item['title']['ratingsSummary']['topRanking']\n",
    "            if top_ranking is not None:\n",
    "                top_ranking = top_ranking['rank']\n",
    "            else:\n",
    "                top_ranking = None\n",
    "            vote_count = item['title']['ratingsSummary']['voteCount']\n",
    "            release_year = item['title']['releaseYear']['year']\n",
    "            end_year = item['title']['releaseYear']['endYear']\n",
    "            title_text = item['title']['titleText']['text']\n",
    "            title_type = item['title']['titleType']['text']\n",
    "            can_have_episodes = item['title']['titleType']['canHaveEpisodes']\n",
    "            is_series = item['title']['titleType']['isSeries']\n",
    "            is_episode = item['title']['titleType']['isEpisode']\n",
    "        \n",
    "                \n",
    "            # Insert data into the table\n",
    "            sql = \"INSERT INTO movies (providerName, title_id, isAdult, canRateTitle, originalTitleText, imageUrl, imageWidth, imageHeight, aggregateRating, topRanking, voteCount, releaseYear, endYear, titleText, titleType, canHaveEpisodes, isSeries, isEpisode) VALUES (%s, %s, %s, %s, %s, %s, %s, %s, %s, %s, %s, %s, %s, %s, %s, %s, %s, %s)\"\n",
    "            val = (provider_name, title_id, is_adult, can_rate_title, original_title_text, image_url, image_width, image_height, aggregate_rating, top_ranking, vote_count, release_year, end_year, title_text, title_type, can_have_episodes, is_series, is_episode)\n",
    "            cursor.execute(sql, val)"
   ]
  },
  {
   "cell_type": "code",
   "execution_count": null,
   "id": "da6b8943",
   "metadata": {},
   "outputs": [],
   "source": [
    "cursor.execute(\"SELECT * FROM movies\")\n",
    "rows = cursor.fetchall()\n",
    "\n",
    "for row in rows:\n",
    "    print(row)"
   ]
  },
  {
   "cell_type": "code",
   "execution_count": null,
   "id": "bf21ffa4",
   "metadata": {},
   "outputs": [],
   "source": [
    "mydb.commit()\n",
    "mydb.close()"
   ]
  }
 ],
 "metadata": {
  "kernelspec": {
   "display_name": "Python 3 (ipykernel)",
   "language": "python",
   "name": "python3"
  },
  "language_info": {
   "codemirror_mode": {
    "name": "ipython",
    "version": 3
   },
   "file_extension": ".py",
   "mimetype": "text/x-python",
   "name": "python",
   "nbconvert_exporter": "python",
   "pygments_lexer": "ipython3",
   "version": "3.10.9"
  }
 },
 "nbformat": 4,
 "nbformat_minor": 5
}
